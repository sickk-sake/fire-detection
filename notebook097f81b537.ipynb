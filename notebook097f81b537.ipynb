{
  "metadata": {
    "kernelspec": {
      "display_name": "Python 3",
      "name": "python3"
    },
    "language_info": {
      "name": "python",
      "version": "3.10.12",
      "mimetype": "text/x-python",
      "codemirror_mode": {
        "name": "ipython",
        "version": 3
      },
      "pygments_lexer": "ipython3",
      "nbconvert_exporter": "python",
      "file_extension": ".py"
    },
    "kaggle": {
      "accelerator": "none",
      "dataSources": [
        {
          "sourceType": "datasetVersion",
          "sourceId": 7863205,
          "datasetId": 3655844,
          "databundleVersionId": 7968296
        }
      ],
      "dockerImageVersionId": 30918,
      "isInternetEnabled": false,
      "language": "python",
      "sourceType": "notebook",
      "isGpuEnabled": false
    },
    "colab": {
      "name": "notebook097f81b537",
      "provenance": [],
      "gpuType": "V28",
      "include_colab_link": true
    },
    "accelerator": "TPU"
  },
  "nbformat_minor": 0,
  "nbformat": 4,
  "cells": [
    {
      "cell_type": "markdown",
      "metadata": {
        "id": "view-in-github",
        "colab_type": "text"
      },
      "source": [
        "<a href=\"https://colab.research.google.com/github/sickk-sake/fire-detection/blob/main/notebook097f81b537.ipynb\" target=\"_parent\"><img src=\"https://colab.research.google.com/assets/colab-badge.svg\" alt=\"Open In Colab\"/></a>"
      ]
    },
    {
      "source": [
        "# IMPORTANT: RUN THIS CELL IN ORDER TO IMPORT YOUR KAGGLE DATA SOURCES,\n",
        "# THEN FEEL FREE TO DELETE THIS CELL.\n",
        "# NOTE: THIS NOTEBOOK ENVIRONMENT DIFFERS FROM KAGGLE'S PYTHON ENVIRONMENT SO THERE MAY BE MISSING LIBRARIES USED BY YOUR NOTEBOOK.\n",
        "import kagglehub\n",
        "elmadafri_the_wildfire_dataset_path = kagglehub.dataset_download('elmadafri/the-wildfire-dataset')\n",
        "\n",
        "print('Data source import complete.')\n"
      ],
      "metadata": {
        "colab": {
          "base_uri": "https://localhost:8080/"
        },
        "id": "7ltiOordosU0",
        "outputId": "b7d816b8-d062-400e-b4aa-add67a5a99b3"
      },
      "cell_type": "code",
      "outputs": [
        {
          "output_type": "stream",
          "name": "stdout",
          "text": [
            "Data source import complete.\n"
          ]
        }
      ],
      "execution_count": 1
    },
    {
      "cell_type": "code",
      "source": [
        "import kagglehub\n",
        "\n",
        "# Download the latest version of the wildfire dataset\n",
        "path = kagglehub.dataset_download(\"elmadafri/the-wildfire-dataset\")\n",
        "\n",
        "print(\"✅ Dataset downloaded at:\", path)\n"
      ],
      "metadata": {
        "_uuid": "8f2839f25d086af736a60e9eeb907d3b93b6e0e5",
        "_cell_guid": "b1076dfc-b9ad-4769-8c92-a6c4dae69d19",
        "trusted": true,
        "execution": {
          "iopub.status.busy": "2025-04-04T09:30:37.407754Z",
          "iopub.execute_input": "2025-04-04T09:30:37.407985Z",
          "iopub.status.idle": "2025-04-04T09:31:29.61682Z",
          "shell.execute_reply.started": "2025-04-04T09:30:37.407964Z",
          "shell.execute_reply": "2025-04-04T09:31:29.61593Z"
        },
        "id": "RRs6HpvHosU1"
      },
      "outputs": [],
      "execution_count": null
    },
    {
      "cell_type": "code",
      "source": [
        "import os\n",
        "import numpy as np\n",
        "import matplotlib.pyplot as plt\n",
        "import tensorflow as tf\n",
        "from tensorflow.keras.preprocessing.image import ImageDataGenerator\n",
        "from tensorflow.keras.models import Sequential\n",
        "from tensorflow.keras.layers import Conv2D, MaxPooling2D, Flatten, Dense, Dropout, Input\n"
      ],
      "metadata": {
        "trusted": true,
        "execution": {
          "iopub.status.busy": "2025-04-04T09:32:37.316983Z",
          "iopub.execute_input": "2025-04-04T09:32:37.317346Z",
          "iopub.status.idle": "2025-04-04T09:32:37.322438Z",
          "shell.execute_reply.started": "2025-04-04T09:32:37.31732Z",
          "shell.execute_reply": "2025-04-04T09:32:37.321294Z"
        },
        "id": "FmnglGJeosU1"
      },
      "outputs": [],
      "execution_count": null
    },
    {
      "cell_type": "code",
      "source": [
        "# TO ensure the GPU is present\n",
        "physical_devices = tf.config.experimental.list_physical_devices('GPU')\n",
        "if len(physical_devices) > 0:\n",
        "  tf.config.experimental.set_memory_growth(physical_devices[0], True)\n",
        "  print('GPU is Available!')\n",
        "else:\n",
        "  print('GPU is Unavailable!')"
      ],
      "metadata": {
        "trusted": true,
        "execution": {
          "iopub.status.busy": "2025-04-04T09:35:12.497345Z",
          "iopub.execute_input": "2025-04-04T09:35:12.497772Z",
          "iopub.status.idle": "2025-04-04T09:35:12.508268Z",
          "shell.execute_reply.started": "2025-04-04T09:35:12.497743Z",
          "shell.execute_reply": "2025-04-04T09:35:12.507298Z"
        },
        "id": "uyY0p47rosU1"
      },
      "outputs": [],
      "execution_count": null
    },
    {
      "cell_type": "code",
      "source": [
        "# Load and explore the dataset\n",
        "train_dir = '/root/.cache/kagglehub/datasets/elmadafri/the-wildfire-dataset/versions/3/the_wildfire_dataset_2n_version/train'\n",
        "val_dir = '/root/.cache/kagglehub/datasets/elmadafri/the-wildfire-dataset/versions/3/the_wildfire_dataset_2n_version/val'\n",
        "test_dir = '/root/.cache/kagglehub/datasets/elmadafri/the-wildfire-dataset/versions/3/the_wildfire_dataset_2n_version/test'"
      ],
      "metadata": {
        "trusted": true,
        "execution": {
          "iopub.status.busy": "2025-04-04T09:35:46.890037Z",
          "iopub.execute_input": "2025-04-04T09:35:46.890366Z",
          "iopub.status.idle": "2025-04-04T09:35:46.894511Z",
          "shell.execute_reply.started": "2025-04-04T09:35:46.890343Z",
          "shell.execute_reply": "2025-04-04T09:35:46.893423Z"
        },
        "id": "B9nuF_JHosU2"
      },
      "outputs": [],
      "execution_count": null
    },
    {
      "cell_type": "code",
      "source": [
        "# Set dataset directories\n",
        "train_dir = os.path.join(path, \"the_wildfire_dataset_2n_version/train\")\n",
        "val_dir = os.path.join(path, \"the_wildfire_dataset_2n_version/val\")\n",
        "test_dir = os.path.join(path, \"the_wildfire_dataset_2n_version/test\")\n"
      ],
      "metadata": {
        "trusted": true,
        "execution": {
          "iopub.status.busy": "2025-04-04T09:32:39.842051Z",
          "iopub.execute_input": "2025-04-04T09:32:39.842425Z",
          "iopub.status.idle": "2025-04-04T09:32:39.8468Z",
          "shell.execute_reply.started": "2025-04-04T09:32:39.842393Z",
          "shell.execute_reply": "2025-04-04T09:32:39.845778Z"
        },
        "id": "0Ymu6hpQosU2"
      },
      "outputs": [],
      "execution_count": null
    },
    {
      "cell_type": "code",
      "source": [
        "classes = sorted(os.listdir(train_dir))\n",
        "num_classes = len(classes)\n",
        "\n",
        "print(f' Number of Classes: {num_classes}')\n",
        "print(f' Classes: {classes}')\n"
      ],
      "metadata": {
        "trusted": true,
        "execution": {
          "iopub.status.busy": "2025-04-04T09:32:46.862988Z",
          "iopub.execute_input": "2025-04-04T09:32:46.863382Z",
          "iopub.status.idle": "2025-04-04T09:32:46.874054Z",
          "shell.execute_reply.started": "2025-04-04T09:32:46.863343Z",
          "shell.execute_reply": "2025-04-04T09:32:46.873069Z"
        },
        "id": "9T4sFbSmosU2"
      },
      "outputs": [],
      "execution_count": null
    },
    {
      "cell_type": "code",
      "source": [
        "# Let's visualize the images in the dataset\n",
        "plt.figure(figsize=(12, 6))\n",
        "class0_path = os.path.join(train_dir, classes[0])\n",
        "\n",
        "for i, img_name in enumerate(os.listdir(class0_path)[:5]):\n",
        "    img_path = os.path.join(class0_path, img_name)\n",
        "    img = plt.imread(img_path)\n",
        "\n",
        "    plt.subplot(1, 5, i+1)\n",
        "    plt.imshow(img)\n",
        "    plt.title(f'{classes[0]}\\n{img.shape}')\n",
        "    plt.axis('off')\n",
        "plt.suptitle(\"Sample Images - Class 0\")\n",
        "plt.tight_layout()\n",
        "plt.show()\n"
      ],
      "metadata": {
        "trusted": true,
        "execution": {
          "iopub.status.busy": "2025-04-04T09:32:51.627577Z",
          "iopub.execute_input": "2025-04-04T09:32:51.62793Z",
          "iopub.status.idle": "2025-04-04T09:32:55.438116Z",
          "shell.execute_reply.started": "2025-04-04T09:32:51.627903Z",
          "shell.execute_reply": "2025-04-04T09:32:55.437149Z"
        },
        "id": "sdDejmEIosU2"
      },
      "outputs": [],
      "execution_count": null
    },
    {
      "cell_type": "code",
      "source": [
        "# Let's visualize2 the images in the dataset\n",
        "plt.figure(figsize=(12, 6))\n",
        "class1_path = os.path.join(train_dir, classes[1])\n",
        "\n",
        "for i, img_name in enumerate(os.listdir(class1_path)[:5]):\n",
        "    img_path = os.path.join(class1_path, img_name)\n",
        "    img = plt.imread(img_path)\n",
        "\n",
        "    plt.subplot(1, 5, i+1)\n",
        "    plt.imshow(img)\n",
        "    plt.title(f'{classes[1]}\\n{img.shape}')\n",
        "    plt.axis('off')\n",
        "plt.suptitle(\"Sample Images - Class 1\")\n",
        "plt.tight_layout()\n",
        "plt.show()\n"
      ],
      "metadata": {
        "trusted": true,
        "execution": {
          "iopub.status.busy": "2025-04-04T09:33:01.33731Z",
          "iopub.execute_input": "2025-04-04T09:33:01.337718Z",
          "iopub.status.idle": "2025-04-04T09:33:10.514327Z",
          "shell.execute_reply.started": "2025-04-04T09:33:01.337685Z",
          "shell.execute_reply": "2025-04-04T09:33:10.513211Z"
        },
        "id": "R__ITarKosU2"
      },
      "outputs": [],
      "execution_count": null
    },
    {
      "cell_type": "code",
      "source": [
        "# Data preprocessing and augmentation\n",
        "train_datagen = ImageDataGenerator(rescale=1./255, rotation_range=20, zoom_range=0.2, horizontal_flip=True)\n",
        "val_datagen = ImageDataGenerator(rescale=1./255)\n",
        "test_datagen = ImageDataGenerator(rescale=1./255)\n",
        "\n",
        "# Flow from directories\n",
        "train_data = train_datagen.flow_from_directory(train_dir, target_size=(128, 128), batch_size=32, class_mode='binary')\n",
        "val_data = val_datagen.flow_from_directory(val_dir, target_size=(128, 128), batch_size=32, class_mode='binary')\n",
        "test_data = test_datagen.flow_from_directory(test_dir, target_size=(128, 128), batch_size=32, class_mode='binary', shuffle=False)\n"
      ],
      "metadata": {
        "id": "iuMsD--oouDS"
      },
      "execution_count": null,
      "outputs": []
    },
    {
      "cell_type": "code",
      "source": [
        "# Build CNN model\n",
        "model = Sequential([\n",
        "    Input(shape=(128, 128, 3)),\n",
        "    Conv2D(32, (3, 3), activation='relu'),\n",
        "    MaxPooling2D(pool_size=(2, 2)),\n",
        "\n",
        "    Conv2D(64, (3, 3), activation='relu'),\n",
        "    MaxPooling2D(pool_size=(2, 2)),\n",
        "\n",
        "    Conv2D(128, (3, 3), activation='relu'),\n",
        "    MaxPooling2D(pool_size=(2, 2)),\n",
        "\n",
        "    Flatten(),\n",
        "    Dense(128, activation='relu'),\n",
        "    Dropout(0.5),\n",
        "    Dense(1, activation='sigmoid')  # Binary classification\n",
        "])\n",
        "\n",
        "# Compile the model\n",
        "model.compile(optimizer='adam', loss='binary_crossentropy', metrics=['accuracy'])\n",
        "\n",
        "# Print model summary\n",
        "model.summary()\n"
      ],
      "metadata": {
        "id": "MjiDrgxnrFZz"
      },
      "execution_count": null,
      "outputs": []
    },
    {
      "cell_type": "code",
      "source": [
        "# Train the model\n",
        "history = model.fit(\n",
        "    train_data,\n",
        "    epochs=10,\n",
        "    validation_data=val_data\n",
        ")\n"
      ],
      "metadata": {
        "id": "VypqIuAsraBJ"
      },
      "execution_count": null,
      "outputs": []
    },
    {
      "cell_type": "code",
      "source": [
        "# Plot training & validation accuracy and loss\n",
        "plt.figure(figsize=(14, 5))\n",
        "\n",
        "# Accuracy\n",
        "plt.subplot(1, 2, 1)\n",
        "plt.plot(history.history['accuracy'], label='Train Accuracy')\n",
        "plt.plot(history.history['val_accuracy'], label='Val Accuracy')\n",
        "plt.title('Model Accuracy')\n",
        "plt.xlabel('Epoch')\n",
        "plt.ylabel('Accuracy')\n",
        "plt.legend()\n",
        "\n",
        "# Loss\n",
        "plt.subplot(1, 2, 2)\n",
        "plt.plot(history.history['loss'], label='Train Loss')\n",
        "plt.plot(history.history['val_loss'], label='Val Loss')\n",
        "plt.title('Model Loss')\n",
        "plt.xlabel('Epoch')\n",
        "plt.ylabel('Loss')\n",
        "plt.legend()\n",
        "\n",
        "plt.tight_layout()\n",
        "plt.show()\n"
      ],
      "metadata": {
        "id": "kK9pzn85t42k"
      },
      "execution_count": null,
      "outputs": []
    }
  ]
}